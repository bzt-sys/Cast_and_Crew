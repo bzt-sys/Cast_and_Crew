{
 "cells": [
  {
   "cell_type": "markdown",
   "id": "bad10dd4",
   "metadata": {},
   "source": [
    "# Proof-of-process only; uses outdated variables and no data. See Notebook 2 for the runnable demo with synthetic data."
   ]
  },
  {
   "cell_type": "markdown",
   "id": "11d51ec9",
   "metadata": {},
   "source": [
    "# 01 — Build Dataset (Joins + Features)"
   ]
  },
  {
   "cell_type": "code",
   "execution_count": 2,
   "id": "e7ff923c",
   "metadata": {},
   "outputs": [],
   "source": [
    "# Imports\n",
    "import pandas as pd, numpy as np, re, os\n",
    "from pathlib import Path\n"
   ]
  },
  {
   "cell_type": "markdown",
   "id": "029a1260",
   "metadata": {},
   "source": [
    "## Load data paths"
   ]
  },
  {
   "cell_type": "code",
   "execution_count": null,
   "id": "1631ebd3",
   "metadata": {},
   "outputs": [],
   "source": [
    "DATA_DIR = Path(\"/Cast_and_Crew/data\")\n",
    "CLEAN = DATA_DIR/'clean'\n",
    "\n",
    "NETFLIX_TITLES = CLEAN/'netflix_movies_agg.csv'  \n",
    "NETFLIX_RATINGS = CLEAN/'netflix_ratings.csv'      \n",
    "\n",
    "BOX_CAST = CLEAN/'Mojo_budget_update.csv'\n",
    "\n"
   ]
  },
  {
   "cell_type": "markdown",
   "id": "83cef62a",
   "metadata": {},
   "source": [
    "## Helpers"
   ]
  },
  {
   "cell_type": "code",
   "execution_count": 14,
   "id": "7553046d",
   "metadata": {},
   "outputs": [],
   "source": [
    "def norm_title(s):\n",
    "    s = str(s).lower()\n",
    "    s = re.sub(r\"[^a-z0-9 ]\", \"\", s)\n",
    "    s = re.sub(r\"\\s+\", \" \", s).strip()\n",
    "    return s\n",
    "\n",
    "def zscore_by_year(df, col, year_col='movie_year'):\n",
    "    df = df.copy()\n",
    "    df['__log'] = np.log1p(df[col])\n",
    "    df['__mu'] = df.groupby(year_col)['__log'].transform('mean')\n",
    "    df['__sd'] = df.groupby(year_col)['__log'].transform('std').replace(0,1)\n",
    "    df[col + '_z_by_year'] = (df['__log'] - df['__mu']) / df['__sd']\n",
    "    return df.drop(columns=['__log','__mu','__sd'])\n"
   ]
  },
  {
   "cell_type": "markdown",
   "id": "620081ad",
   "metadata": {},
   "source": [
    "## Load Netflix titles & ratings (aggregate to movie-level)"
   ]
  },
  {
   "cell_type": "code",
   "execution_count": null,
   "id": "5bbd3fbd",
   "metadata": {},
   "outputs": [],
   "source": [
    "\n",
    "titles = pd.read_csv(NETFLIX_TITLES)\n",
    "# Expect columns like: movie_id, year, title\n",
    "titles['title_norm'] = titles['movie_title'].map(norm_title)\n",
    "\n",
    "# Ratings aggregation (update to your schema)\n",
    "ratings = pd.read_csv(NETFLIX_RATINGS)\n",
    "# Expect columns like: user_id, movie_id, rating, date\n",
    "movie_avg = ratings.groupby('movie_id')['rating'].agg(['mean','count']).reset_index()\n",
    "movie_avg.columns = ['movie_id','movie_avg_rating','movie_rating_count']\n",
    "\n",
    "movies = titles.merge(movie_avg, on='movie_id', how='left')\n",
    "movies = movies.rename(columns={'year':'movie_year', 'title':'movie_title'})\n"
   ]
  },
  {
   "cell_type": "markdown",
   "id": "8bdc6433",
   "metadata": {},
   "source": [
    "## Load Box Office + Cast"
   ]
  },
  {
   "cell_type": "code",
   "execution_count": 19,
   "id": "a355b131",
   "metadata": {},
   "outputs": [],
   "source": [
    "box = pd.read_csv(BOX_CAST)\n",
    "box['title_norm'] = box['title'].map(norm_title)\n"
   ]
  },
  {
   "cell_type": "code",
   "execution_count": 21,
   "id": "099dec74",
   "metadata": {},
   "outputs": [
    {
     "name": "stdout",
     "output_type": "stream",
     "text": [
      "movies cols: ['movie_avg_rating_x', 'movie_avg_rating_y', 'movie_id', 'movie_rating_count_x', 'movie_rating_count_y', 'movie_title', 'movie_year', 'title_norm']\n",
      "box cols: ['budget', 'cinematographer', 'composer', 'director', 'distributor', 'domestic', 'genre_1', 'genre_2', 'genre_3', 'genre_4', 'html', 'international', 'main_actor_1', 'main_actor_2', 'main_actor_3', 'main_actor_4', 'movie_id', 'movie_title', 'movie_year', 'mpaa', 'producer', 'release_date', 'run_time', 'title_norm', 'trivia', 'worldwide', 'writer']\n",
      "year dtype (movies, box): Int64 Int64\n"
     ]
    }
   ],
   "source": [
    "# 🔧 Harmonize column names before merge\n",
    "def norm_title(s: str) -> str:\n",
    "    import re\n",
    "    s = str(s).lower()\n",
    "    s = re.sub(r\"[^a-z0-9 ]\", \"\", s)\n",
    "    s = re.sub(r\"\\s+\", \" \", s).strip()\n",
    "    return s\n",
    "\n",
    "# Coalesce year + title columns on both sides\n",
    "def coalesce_year_title(df):\n",
    "    # year -> movie_year\n",
    "    for cand in [\"movie_year\", \"year\", \"startYear\", \"release_year\", \"Year\"]:\n",
    "        if cand in df.columns:\n",
    "            df = df.rename(columns={cand: \"movie_year\"})\n",
    "            break\n",
    "    # title -> movie_title\n",
    "    for cand in [\"movie_title\", \"title\", \"primaryTitle\", \"MovieTitle\"]:\n",
    "        if cand in df.columns:\n",
    "            df = df.rename(columns={cand: \"movie_title\"})\n",
    "            break\n",
    "    # normalize types and title_norm\n",
    "    if \"movie_year\" in df.columns:\n",
    "        df[\"movie_year\"] = pd.to_numeric(df[\"movie_year\"], errors=\"coerce\").astype(\"Int64\")\n",
    "    if \"movie_title\" in df.columns:\n",
    "        df[\"title_norm\"] = df[\"movie_title\"].map(norm_title)\n",
    "    return df\n",
    "\n",
    "movies = coalesce_year_title(movies)\n",
    "box    = coalesce_year_title(box)\n",
    "\n",
    "# drop rows missing year or title_norm\n",
    "movies = movies.dropna(subset=[\"movie_year\", \"title_norm\"])\n",
    "box    = box.dropna(subset=[\"movie_year\", \"title_norm\"])\n",
    "\n",
    "# quick sanity\n",
    "print(\"movies cols:\", sorted(movies.columns))\n",
    "print(\"box cols:\", sorted(box.columns))\n",
    "print(\"year dtype (movies, box):\", movies[\"movie_year\"].dtype, box[\"movie_year\"].dtype)\n"
   ]
  },
  {
   "cell_type": "markdown",
   "id": "6083d6ec",
   "metadata": {},
   "source": [
    "## Join on (title_norm, movie_year)"
   ]
  },
  {
   "cell_type": "code",
   "execution_count": 22,
   "id": "a0c82240",
   "metadata": {},
   "outputs": [
    {
     "name": "stdout",
     "output_type": "stream",
     "text": [
      "Joined rows: 1147\n"
     ]
    }
   ],
   "source": [
    "mv = movies.merge(box, left_on=['title_norm','movie_year'],\n",
    "                        right_on=['title_norm','movie_year'], how='inner', suffixes=('','_box'))\n",
    "print('Joined rows:', len(mv))\n"
   ]
  },
  {
   "cell_type": "markdown",
   "id": "acf2d87c",
   "metadata": {},
   "source": [
    "## Build features (Meehl 10)"
   ]
  },
  {
   "cell_type": "code",
   "execution_count": 28,
   "id": "468712b5",
   "metadata": {},
   "outputs": [
    {
     "name": "stdout",
     "output_type": "stream",
     "text": [
      "Joined rows: 1147\n",
      "Saved \\Cast_and_Crew\\data\\clean\\modeling_table_mvp.csv\n"
     ]
    }
   ],
   "source": [
    "df = mv.copy()\n",
    "from pathlib import Path\n",
    "\n",
    "# Budget/box normalization\n",
    "for col in ['worldwide','domestic','budget']:\n",
    "    if col in df.columns:\n",
    "        df[col] = pd.to_numeric(df[col], errors='coerce')\n",
    "\n",
    "df = df.dropna(subset=['worldwide'])  # keep rows with outcome\n",
    "df = zscore_by_year(df, 'worldwide', year_col='movie_year')\n",
    "\n",
    "\n",
    "def ensure_movie_avg_rating(movies: pd.DataFrame) -> pd.DataFrame:\n",
    "    # If the right column already exists, just return\n",
    "    if 'movie_avg_rating' in movies.columns:\n",
    "        return movies\n",
    "\n",
    "    # Try to find a \"mean\" column from an earlier aggregate\n",
    "    mean_aliases  = {'movie_avg_rating','avg_rating','mean_rating','rating_mean','mean'}\n",
    "    count_aliases = {'movie_rating_count','rating_count','count','n'}\n",
    "    mean_col = next((c for c in movies.columns if c.lower() in mean_aliases), None)\n",
    "    count_col = next((c for c in movies.columns if c.lower() in count_aliases), None)\n",
    "\n",
    "    if mean_col:\n",
    "        movies = movies.rename(columns={mean_col: 'movie_avg_rating'})\n",
    "        if count_col:\n",
    "            movies = movies.rename(columns={count_col: 'movie_rating_count'})\n",
    "        return movies\n",
    "\n",
    "    # Fallback: compute from ratings file if available\n",
    "    ratings_path = CLEAN / 'netflix_ratings.csv'\n",
    "    if ratings_path.exists():\n",
    "        rat = pd.read_csv(ratings_path, usecols=['movie_id','rating'])\n",
    "        agg = rat.groupby('movie_id')['rating'].agg(['mean','count']).reset_index()\n",
    "        agg.columns = ['movie_id','movie_avg_rating','movie_rating_count']\n",
    "        movies = movies.merge(agg, on='movie_id', how='left')\n",
    "        return movies\n",
    "\n",
    "    # Last resort: impute a neutral average so you can proceed (you can replace later)\n",
    "    movies['movie_avg_rating'] = 3.5\n",
    "    movies['movie_rating_count'] = 0\n",
    "    return movies\n",
    "\n",
    "# 1) Standardize year/title on both tables (safe if already done)\n",
    "def norm_title(s):\n",
    "    import re\n",
    "    s = str(s).lower()\n",
    "    s = re.sub(r\"[^a-z0-9 ]\", \"\", s)\n",
    "    s = re.sub(r\"\\s+\", \" \", s).strip()\n",
    "    return s\n",
    "\n",
    "def coalesce_year_title(df):\n",
    "    for cand in [\"movie_year\",\"year\",\"startYear\",\"release_year\",\"Year\"]:\n",
    "        if cand in df.columns:\n",
    "            df = df.rename(columns={cand: \"movie_year\"})\n",
    "            break\n",
    "    for cand in [\"movie_title\",\"title\",\"primaryTitle\",\"MovieTitle\"]:\n",
    "        if cand in df.columns:\n",
    "            df = df.rename(columns={cand: \"movie_title\"})\n",
    "            break\n",
    "    if \"movie_title\" in df.columns:\n",
    "        df[\"title_norm\"] = df[\"movie_title\"].map(norm_title)\n",
    "    if \"movie_year\" in df.columns:\n",
    "        df[\"movie_year\"] = pd.to_numeric(df[\"movie_year\"], errors=\"coerce\").astype(\"Int64\")\n",
    "    return df\n",
    "\n",
    "movies = coalesce_year_title(movies)\n",
    "box    = coalesce_year_title(box)\n",
    "\n",
    "# 2) Make sure movies has movie_avg_rating\n",
    "movies = ensure_movie_avg_rating(movies)\n",
    "\n",
    "# 3) Re-do the join cleanly\n",
    "movies = movies.dropna(subset=[\"movie_year\",\"title_norm\"])\n",
    "box    = box.dropna(subset=[\"movie_year\",\"title_norm\"])\n",
    "\n",
    "mv = movies.merge(\n",
    "    box,\n",
    "    on=[\"title_norm\",\"movie_year\"],\n",
    "    how=\"inner\",\n",
    "    suffixes=(\"\",\"_box\")\n",
    ")\n",
    "print(\"Joined rows:\", len(mv))\n",
    "\n",
    "# ---- from here on, work on a fresh df built from mv ----\n",
    "df = mv.copy()\n",
    "\n",
    "# Ensure money columns are numeric\n",
    "for col in [\"worldwide\",\"domestic\",\"international\",\"budget\"]:\n",
    "    if col in df.columns:\n",
    "        df[col] = pd.to_numeric(df[col], errors=\"coerce\")\n",
    "\n",
    "# Make sure we actually have worldwide\n",
    "assert \"worldwide\" in df.columns, \\\n",
    "    f\"'worldwide' not found. Got money-like cols: {[c for c in df.columns if 'world' in c.lower() or 'gross' in c.lower()]}\"\n",
    "\n",
    "# Drop rows without outcome and recompute the z-score AFTER the merge\n",
    "df = df.dropna(subset=[\"worldwide\"]).copy()\n",
    "\n",
    "# helper if you don't already have it defined above\n",
    "def zscore_by_year(_df, col, year_col=\"movie_year\"):\n",
    "    d = _df.copy()\n",
    "    logv = np.log1p(pd.to_numeric(d[col], errors=\"coerce\"))\n",
    "    mu = d.groupby(year_col)[col].transform(lambda s: np.log1p(pd.to_numeric(s, errors=\"coerce\")).mean())\n",
    "    sd = d.groupby(year_col)[col].transform(lambda s: np.log1p(pd.to_numeric(s, errors=\"coerce\")).std()).replace(0,1)\n",
    "    d[f\"{col}_z_by_year\"] = (logv - mu) / sd\n",
    "    return d\n",
    "\n",
    "df = zscore_by_year(df, \"worldwide\", year_col=\"movie_year\")\n",
    "\n",
    "# Ensure movie_avg_rating exists (rename or compute from ratings if needed)\n",
    "if \"movie_avg_rating\" not in df.columns:\n",
    "    mean_aliases  = {\"movie_avg_rating\",\"avg_rating\",\"mean_rating\",\"rating_mean\",\"mean\"}\n",
    "    count_aliases = {\"movie_rating_count\",\"rating_count\",\"count\",\"n\"}\n",
    "    mean_col = next((c for c in df.columns if c.lower() in mean_aliases), None)\n",
    "    count_col = next((c for c in df.columns if c.lower() in count_aliases), None)\n",
    "    if mean_col:\n",
    "        df = df.rename(columns={mean_col:\"movie_avg_rating\"})\n",
    "        if count_col:\n",
    "            df = df.rename(columns={count_col:\"movie_rating_count\"})\n",
    "    else:\n",
    "        # fallback: compute from ratings file if present\n",
    "        ratings_path = CLEAN/\"netflix_ratings.csv\"\n",
    "        if ratings_path.exists():\n",
    "            rat = pd.read_csv(ratings_path, usecols=[\"movie_id\",\"rating\"])\n",
    "            agg = rat.groupby(\"movie_id\")[\"rating\"].agg([\"mean\",\"count\"]).reset_index()\n",
    "            agg.columns = [\"movie_id\",\"movie_avg_rating\",\"movie_rating_count\"]\n",
    "            df = df.merge(agg, on=\"movie_id\", how=\"left\")\n",
    "        else:\n",
    "            df[\"movie_avg_rating\"] = 3.5\n",
    "            df[\"movie_rating_count\"] = 0\n",
    "\n",
    "# Scale ratings and build resonance\n",
    "rmin, rmax = df[\"movie_avg_rating\"].min(), df[\"movie_avg_rating\"].max()\n",
    "df[\"rating_01\"] = (df[\"movie_avg_rating\"] - rmin) / (rmax - rmin + 1e-9)\n",
    "df[\"resonance\"] = 0.5*df[\"worldwide_z_by_year\"] + 0.5*df[\"rating_01\"]\n",
    "\n",
    "# Genre one-hot (limited set for MVP)\n",
    "for g in [\"Action\",\"Drama\",\"Comedy\",\"Thriller\",\"Romance\"]:\n",
    "    df[f\"genre_{g.lower()}\"] = (\n",
    "        df[[\"genre_1\",\"genre_2\",\"genre_3\",\"genre_4\"]]\n",
    "          .astype(str).apply(lambda r: int(any(g.lower() in x.lower() for x in r.values)), axis=1)\n",
    "    )\n",
    "\n",
    "# Year cyclicals\n",
    "year = df[\"movie_year\"].astype(float)\n",
    "span = (year.max() - year.min()) + 1.0\n",
    "df[\"year_sin\"] = np.sin(2*np.pi*(year - year.min())/span)\n",
    "df[\"year_cos\"] = np.cos(2*np.pi*(year - year.min())/span)\n",
    "\n",
    "# (The rest of your placeholders / saves stay the same)\n",
    "\n",
    "# Top-billing propensity (for attached cast)\n",
    "for i in [1,2,3,4]:\n",
    "    df[f'main_actor_{i}'] = df.get(f'main_actor_{i}', pd.Series([None]*len(df)))\n",
    "\n",
    "# Actor/Director trailing stats -- placeholders (fill with rolling over prior roles)\n",
    "# For MVP, back off to global priors; you can implement true trailing via a per-actor filmography join.\n",
    "df['atr3'] = df['worldwide_z_by_year'].expanding().mean() * 0  # TODO: replace with actor-level trailing\n",
    "df['dtr3'] = df['worldwide_z_by_year'].expanding().mean() * 0  # TODO: replace with director-level trailing\n",
    "\n",
    "# Budget fit delta (deciles)\n",
    "df['budget_decile'] = pd.qcut(df['budget'].fillna(df['budget'].median()), 10, labels=False, duplicates='drop')\n",
    "df['project_budget_decile'] = df['budget_decile']  # proxy in MVP\n",
    "df['bfd'] = 0  # will be |project - actor_budget_decile| when actor stats are computed\n",
    "\n",
    "# Release velocity (proxy)\n",
    "df['release_density'] = 1  # TODO\n",
    "df['recency_gap'] = 0      # TODO\n",
    "\n",
    "# MPAA fit (proxy zeros for MVP)\n",
    "df['mpaa_fit'] = 0\n",
    "\n",
    "# Save modeling table\n",
    "MODEL_CSV = CLEAN/'modeling_table_mvp.csv'\n",
    "df.to_csv(MODEL_CSV, index=False)\n",
    "print('Saved', MODEL_CSV)\n"
   ]
  }
 ],
 "metadata": {
  "kernelspec": {
   "display_name": "Python 3",
   "language": "python",
   "name": "python3"
  },
  "language_info": {
   "codemirror_mode": {
    "name": "ipython",
    "version": 3
   },
   "file_extension": ".py",
   "mimetype": "text/x-python",
   "name": "python",
   "nbconvert_exporter": "python",
   "pygments_lexer": "ipython3",
   "version": "3.12.2"
  }
 },
 "nbformat": 4,
 "nbformat_minor": 5
}
